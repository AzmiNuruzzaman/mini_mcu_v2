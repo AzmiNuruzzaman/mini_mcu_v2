{
 "cells": [
  {
   "cell_type": "code",
   "execution_count": 1,
   "id": "aa0fb3bd-cefb-4361-ae7f-749aa562f34c",
   "metadata": {},
   "outputs": [
    {
     "ename": "KeyError",
     "evalue": "\"['nama', 'jabatan', 'lokasi'] not in index\"",
     "output_type": "error",
     "traceback": [
      "\u001b[31m---------------------------------------------------------------------------\u001b[39m",
      "\u001b[31mKeyError\u001b[39m                                  Traceback (most recent call last)",
      "\u001b[36mCell\u001b[39m\u001b[36m \u001b[39m\u001b[32mIn[1]\u001b[39m\u001b[32m, line 5\u001b[39m\n\u001b[32m      2\u001b[39m \u001b[38;5;28;01mfrom\u001b[39;00m\u001b[38;5;250m \u001b[39m\u001b[34;01mdb\u001b[39;00m\u001b[34;01m.\u001b[39;00m\u001b[34;01mqueries\u001b[39;00m\u001b[38;5;250m \u001b[39m\u001b[38;5;28;01mimport\u001b[39;00m load_checkups\n\u001b[32m      4\u001b[39m df = load_checkups()\n\u001b[32m----> \u001b[39m\u001b[32m5\u001b[39m \u001b[38;5;28mprint\u001b[39m(\u001b[43mdf\u001b[49m\u001b[43m[\u001b[49m\u001b[43m[\u001b[49m\u001b[33;43m\"\u001b[39;49m\u001b[33;43memployee_uid\u001b[39;49m\u001b[33;43m\"\u001b[39;49m\u001b[43m,\u001b[49m\u001b[43m \u001b[49m\u001b[33;43m\"\u001b[39;49m\u001b[33;43mnama\u001b[39;49m\u001b[33;43m\"\u001b[39;49m\u001b[43m,\u001b[49m\u001b[43m \u001b[49m\u001b[33;43m\"\u001b[39;49m\u001b[33;43mjabatan\u001b[39;49m\u001b[33;43m\"\u001b[39;49m\u001b[43m,\u001b[49m\u001b[43m \u001b[49m\u001b[33;43m\"\u001b[39;49m\u001b[33;43mlokasi\u001b[39;49m\u001b[33;43m\"\u001b[39;49m\u001b[43m]\u001b[49m\u001b[43m]\u001b[49m.head(\u001b[32m20\u001b[39m))\n\u001b[32m      6\u001b[39m \u001b[38;5;28mprint\u001b[39m(df[\u001b[33m\"\u001b[39m\u001b[33mlokasi\u001b[39m\u001b[33m\"\u001b[39m].value_counts(dropna=\u001b[38;5;28;01mFalse\u001b[39;00m))\n",
      "\u001b[36mFile \u001b[39m\u001b[32m~\\AppData\\Local\\Programs\\Python\\Python313\\Lib\\site-packages\\pandas\\core\\frame.py:4113\u001b[39m, in \u001b[36mDataFrame.__getitem__\u001b[39m\u001b[34m(self, key)\u001b[39m\n\u001b[32m   4111\u001b[39m     \u001b[38;5;28;01mif\u001b[39;00m is_iterator(key):\n\u001b[32m   4112\u001b[39m         key = \u001b[38;5;28mlist\u001b[39m(key)\n\u001b[32m-> \u001b[39m\u001b[32m4113\u001b[39m     indexer = \u001b[38;5;28;43mself\u001b[39;49m\u001b[43m.\u001b[49m\u001b[43mcolumns\u001b[49m\u001b[43m.\u001b[49m\u001b[43m_get_indexer_strict\u001b[49m\u001b[43m(\u001b[49m\u001b[43mkey\u001b[49m\u001b[43m,\u001b[49m\u001b[43m \u001b[49m\u001b[33;43m\"\u001b[39;49m\u001b[33;43mcolumns\u001b[39;49m\u001b[33;43m\"\u001b[39;49m\u001b[43m)\u001b[49m[\u001b[32m1\u001b[39m]\n\u001b[32m   4115\u001b[39m \u001b[38;5;66;03m# take() does not accept boolean indexers\u001b[39;00m\n\u001b[32m   4116\u001b[39m \u001b[38;5;28;01mif\u001b[39;00m \u001b[38;5;28mgetattr\u001b[39m(indexer, \u001b[33m\"\u001b[39m\u001b[33mdtype\u001b[39m\u001b[33m\"\u001b[39m, \u001b[38;5;28;01mNone\u001b[39;00m) == \u001b[38;5;28mbool\u001b[39m:\n",
      "\u001b[36mFile \u001b[39m\u001b[32m~\\AppData\\Local\\Programs\\Python\\Python313\\Lib\\site-packages\\pandas\\core\\indexes\\base.py:6212\u001b[39m, in \u001b[36mIndex._get_indexer_strict\u001b[39m\u001b[34m(self, key, axis_name)\u001b[39m\n\u001b[32m   6209\u001b[39m \u001b[38;5;28;01melse\u001b[39;00m:\n\u001b[32m   6210\u001b[39m     keyarr, indexer, new_indexer = \u001b[38;5;28mself\u001b[39m._reindex_non_unique(keyarr)\n\u001b[32m-> \u001b[39m\u001b[32m6212\u001b[39m \u001b[38;5;28;43mself\u001b[39;49m\u001b[43m.\u001b[49m\u001b[43m_raise_if_missing\u001b[49m\u001b[43m(\u001b[49m\u001b[43mkeyarr\u001b[49m\u001b[43m,\u001b[49m\u001b[43m \u001b[49m\u001b[43mindexer\u001b[49m\u001b[43m,\u001b[49m\u001b[43m \u001b[49m\u001b[43maxis_name\u001b[49m\u001b[43m)\u001b[49m\n\u001b[32m   6214\u001b[39m keyarr = \u001b[38;5;28mself\u001b[39m.take(indexer)\n\u001b[32m   6215\u001b[39m \u001b[38;5;28;01mif\u001b[39;00m \u001b[38;5;28misinstance\u001b[39m(key, Index):\n\u001b[32m   6216\u001b[39m     \u001b[38;5;66;03m# GH 42790 - Preserve name from an Index\u001b[39;00m\n",
      "\u001b[36mFile \u001b[39m\u001b[32m~\\AppData\\Local\\Programs\\Python\\Python313\\Lib\\site-packages\\pandas\\core\\indexes\\base.py:6264\u001b[39m, in \u001b[36mIndex._raise_if_missing\u001b[39m\u001b[34m(self, key, indexer, axis_name)\u001b[39m\n\u001b[32m   6261\u001b[39m     \u001b[38;5;28;01mraise\u001b[39;00m \u001b[38;5;167;01mKeyError\u001b[39;00m(\u001b[33mf\u001b[39m\u001b[33m\"\u001b[39m\u001b[33mNone of [\u001b[39m\u001b[38;5;132;01m{\u001b[39;00mkey\u001b[38;5;132;01m}\u001b[39;00m\u001b[33m] are in the [\u001b[39m\u001b[38;5;132;01m{\u001b[39;00maxis_name\u001b[38;5;132;01m}\u001b[39;00m\u001b[33m]\u001b[39m\u001b[33m\"\u001b[39m)\n\u001b[32m   6263\u001b[39m not_found = \u001b[38;5;28mlist\u001b[39m(ensure_index(key)[missing_mask.nonzero()[\u001b[32m0\u001b[39m]].unique())\n\u001b[32m-> \u001b[39m\u001b[32m6264\u001b[39m \u001b[38;5;28;01mraise\u001b[39;00m \u001b[38;5;167;01mKeyError\u001b[39;00m(\u001b[33mf\u001b[39m\u001b[33m\"\u001b[39m\u001b[38;5;132;01m{\u001b[39;00mnot_found\u001b[38;5;132;01m}\u001b[39;00m\u001b[33m not in index\u001b[39m\u001b[33m\"\u001b[39m)\n",
      "\u001b[31mKeyError\u001b[39m: \"['nama', 'jabatan', 'lokasi'] not in index\""
     ]
    }
   ],
   "source": [
    "import pandas as pd\n",
    "from db.queries import load_checkups\n",
    "\n",
    "df = load_checkups()\n",
    "print(df[[\"employee_uid\", \"nama\", \"jabatan\", \"lokasi\"]].head(20))\n",
    "print(df[\"lokasi\"].value_counts(dropna=False))\n"
   ]
  },
  {
   "cell_type": "code",
   "execution_count": 2,
   "id": "b06d884f-d84b-46ab-9ddc-ad49a961c57e",
   "metadata": {},
   "outputs": [
    {
     "name": "stdout",
     "output_type": "stream",
     "text": [
      "Index(['checkup_id', 'employee_uid', 'tinggi', 'berat', 'lingkar_perut', 'bmi',\n",
      "       'gestational_diabetes', 'cholesterol', 'asam_urat', 'tanggal',\n",
      "       'created_at', 'tanggal_lahir', 'umur', 'status'],\n",
      "      dtype='object')\n",
      "                             checkup_id                          employee_uid  \\\n",
      "0  541ffbfb-5d3a-45e5-8c6c-3a5ef9be5803  8b7de17f-b6a2-4f6e-a643-1d5e91170d25   \n",
      "1  5b24ad10-dd21-4e30-b3fc-6617ea48bd60  959532e2-0283-4f5e-9aa3-538b571fa7fe   \n",
      "2  009bbbeb-bdb3-44cd-b517-459938ade5f4  ec699a30-29ce-468c-9aa4-d15aa82f3d76   \n",
      "3  2c723673-f3d5-4c6a-a29c-22b4f2ae4605  60649186-f452-4f7e-8d12-df9c3f618fd9   \n",
      "4  17cdd0f2-c73a-4fb3-98c6-5fe5c823e1df  02986f6e-e250-41dc-a71b-4187e947d2f2   \n",
      "\n",
      "   tinggi  berat  lingkar_perut        bmi  gestational_diabetes  cholesterol  \\\n",
      "0    1.70   70.0           95.0  24.221453                   120          250   \n",
      "1    1.60   55.0           70.0  21.484375                    85          170   \n",
      "2    1.75   95.0          105.0  31.020408                   140          300   \n",
      "3    1.58   50.0           65.0  20.028842                    80          160   \n",
      "4    1.68   85.0          100.0  30.116213                   130          280   \n",
      "\n",
      "   asam_urat     tanggal                 created_at tanggal_lahir  umur  \\\n",
      "0          8  2025-09-01 2025-09-09 21:59:54.502103    1988-05-12    37   \n",
      "1          4  2025-08-15 2025-09-09 21:59:54.502103    1990-07-20    35   \n",
      "2          9  2025-09-05 2025-09-09 21:59:54.502103    1985-03-10    40   \n",
      "3          3  2025-07-25 2025-09-09 21:59:54.502103    1992-11-30    32   \n",
      "4          7  2025-09-07 2025-09-09 21:59:54.502103    1980-01-18    45   \n",
      "\n",
      "   status  \n",
      "0  Unwell  \n",
      "1    Well  \n",
      "2  Unwell  \n",
      "3    Well  \n",
      "4  Unwell  \n"
     ]
    }
   ],
   "source": [
    "print(df.columns)\n",
    "print(df.head())\n",
    "\n"
   ]
  },
  {
   "cell_type": "code",
   "execution_count": null,
   "id": "0ff4a0e3-623a-408e-99fe-9c1e4cafddf1",
   "metadata": {},
   "outputs": [],
   "source": []
  }
 ],
 "metadata": {
  "kernelspec": {
   "display_name": "Python 3 (ipykernel)",
   "language": "python",
   "name": "python3"
  },
  "language_info": {
   "codemirror_mode": {
    "name": "ipython",
    "version": 3
   },
   "file_extension": ".py",
   "mimetype": "text/x-python",
   "name": "python",
   "nbconvert_exporter": "python",
   "pygments_lexer": "ipython3",
   "version": "3.13.5"
  }
 },
 "nbformat": 4,
 "nbformat_minor": 5
}
